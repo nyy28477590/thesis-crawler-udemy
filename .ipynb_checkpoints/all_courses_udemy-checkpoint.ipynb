{
 "cells": [
  {
   "cell_type": "code",
   "execution_count": 1,
   "metadata": {},
   "outputs": [],
   "source": [
    "import requests\n",
    "import json"
   ]
  },
  {
   "cell_type": "code",
   "execution_count": 2,
   "metadata": {},
   "outputs": [
    {
     "data": {
      "text/plain": [
       "'\\nhttps://www.udemy.com/api-2.0/discovery-units/all_courses/?page_size=60&lang=en&category_id=288&source_page=category_page&locale=en_US&currency=usd&navigation_locale=en_US&sos=pc&fl=cat\\n'"
      ]
     },
     "execution_count": 2,
     "metadata": {},
     "output_type": "execute_result"
    }
   ],
   "source": [
    "\"\"\"\n",
    "https://www.udemy.com/api-2.0/discovery-units/all_courses/?page_size=60&lang=en&category_id=288&source_page=category_page&locale=en_US&currency=usd&navigation_locale=en_US&sos=pc&fl=cat\n",
    "\"\"\""
   ]
  },
  {
   "cell_type": "code",
   "execution_count": 3,
   "metadata": {},
   "outputs": [
    {
     "data": {
      "text/plain": [
       "'\\nhttps://www.udemy.com/api-2.0/pricing/?course_ids=1065792,1147478,1319412,1329184,1402208,1428836,1456612,1472630,1545984,1617580&fields[pricing_result]=price,discount_price,list_price,price_detail,price_serve_tracking_id\\n'"
      ]
     },
     "execution_count": 3,
     "metadata": {},
     "output_type": "execute_result"
    }
   ],
   "source": [
    "\"\"\"\n",
    "https://www.udemy.com/api-2.0/pricing/?course_ids=1065792,1147478,1319412,1329184,1402208,1428836,1456612,1472630,1545984,1617580&fields[pricing_result]=price,discount_price,list_price,price_detail,price_serve_tracking_id\n",
    "\"\"\""
   ]
  },
  {
   "cell_type": "code",
   "execution_count": 5,
   "metadata": {},
   "outputs": [],
   "source": [
    "url = 'https://www.udemy.com/api-2.0/discovery-units/all_courses/'\n",
    "payload = {'p':1,'page_size':60, 'lang':'en', 'category_id':288, 'source_page':'category_page', 'locale':'en_US', 'currency':'usd', 'navigation_locale':'en_US', 'sos':'pc','fl':'cat'}\n",
    "r = requests.get(url, params=payload)\n",
    "if r.status_code == 200:\n",
    "    api_data = r.json()"
   ]
  },
  {
   "cell_type": "code",
   "execution_count": 6,
   "metadata": {},
   "outputs": [
    {
     "data": {
      "text/plain": [
       "{'unit': {'title': 'Development courses',\n",
       "  'raw_title': '{} courses',\n",
       "  'source_objects': [{'id': 288,\n",
       "    'type': 'category',\n",
       "    'title': 'Development',\n",
       "    'url': '/courses/development/',\n",
       "    'description': None}],\n",
       "  'item_type': 'course',\n",
       "  'items': [{'_class': 'course',\n",
       "    'id': 567828,\n",
       "    'title': '2022 Complete Python Bootcamp From Zero to Hero in Python',\n",
       "    'url': '/course/complete-python-bootcamp/',\n",
       "    'is_paid': True,\n",
       "    'visible_instructors': [{'_class': 'user',\n",
       "      'id': 9685726,\n",
       "      'title': 'Jose Portilla',\n",
       "      'name': 'Jose',\n",
       "      'display_name': 'Jose Portilla',\n",
       "      'job_title': 'Head of Data Science, Pierian Data Inc.',\n",
       "      'image_50x50': 'https://img-c.udemycdn.com/user/50x50/9685726_67e7_4.jpg',\n",
       "      'image_100x100': 'https://img-c.udemycdn.com/user/100x100/9685726_67e7_4.jpg',\n",
       "      'initials': 'JP',\n",
       "      'url': '/user/joseportilla/'}],\n",
       "    'image_125_H': 'https://img-c.udemycdn.com/course/125_H/567828_67d0.jpg',\n",
       "    'image_240x135': 'https://img-c.udemycdn.com/course/240x135/567828_67d0.jpg',\n",
       "    'is_practice_test_course': False,\n",
       "    'image_480x270': 'https://img-c.udemycdn.com/course/480x270/567828_67d0.jpg',\n",
       "    'published_title': 'complete-python-bootcamp',\n",
       "    'tracking_id': 'Fu1EQLLWSAiVCu-fBGv5ew',\n",
       "    'headline': 'Learn Python like a Professional  Start from the basics and go all the way to creating your own applications and games',\n",
       "    'num_subscribers': 1490084,\n",
       "    'caption_locales': [{'_class': 'locale',\n",
       "      'locale': 'de_DE',\n",
       "      'title': 'Deutsch',\n",
       "      'english_title': 'German'},\n",
       "     {'_class': 'locale',\n",
       "      'locale': 'en_US',\n",
       "      'title': 'English (US)',\n",
       "      'english_title': 'English (US)'},\n",
       "     {'_class': 'locale',\n",
       "      'locale': 'es_ES',\n",
       "      'title': 'Español (España)',\n",
       "      'english_title': 'Spanish (Spain)'},\n",
       "     {'_class': 'locale',\n",
       "      'locale': 'fr_FR',\n",
       "      'title': 'Français (France)',\n",
       "      'english_title': 'French (France)'},\n",
       "     {'_class': 'locale',\n",
       "      'locale': 'id_ID',\n",
       "      'title': 'Bahasa Indonesia',\n",
       "      'english_title': 'Indonesian'},\n",
       "     {'_class': 'locale',\n",
       "      'locale': 'it_IT',\n",
       "      'title': 'Italiano',\n",
       "      'english_title': 'Italian'},\n",
       "     {'_class': 'locale',\n",
       "      'locale': 'pl_PL',\n",
       "      'title': 'Polski',\n",
       "      'english_title': 'Polish'},\n",
       "     {'_class': 'locale',\n",
       "      'locale': 'pt_BR',\n",
       "      'title': 'Português (Brasil)',\n",
       "      'english_title': 'Portuguese (Brazil)'}],\n",
       "    'avg_rating': 4.6230392,\n",
       "    'avg_rating_recent': 4.624186,\n",
       "    'rating': 4.624186,\n",
       "    'num_reviews': 408496,\n",
       "    'is_wishlisted': False,\n",
       "    'num_published_lectures': 155,\n",
       "    'num_published_practice_tests': 0,\n",
       "    'image_50x50': 'https://img-c.udemycdn.com/course/50x50/567828_67d0.jpg',\n",
       "    'image_100x100': 'https://img-c.udemycdn.com/course/100x100/567828_67d0.jpg',\n",
       "    'image_304x171': 'https://img-c.udemycdn.com/course/304x171/567828_67d0.jpg',\n",
       "    'image_750x422': 'https://img-c.udemycdn.com/course/750x422/567828_67d0.jpg',\n",
       "    'is_in_user_subscription': False,\n",
       "    'locale': {'_class': 'locale',\n",
       "     'locale': 'en_US',\n",
       "     'title': 'English (US)',\n",
       "     'english_title': 'English (US)',\n",
       "     'simple_english_title': 'English'},\n",
       "    'has_closed_caption': True,\n",
       "    'caption_languages': ['English [Auto]',\n",
       "     'French [Auto]',\n",
       "     'German [Auto]',\n",
       "     'Indonesian [Auto]',\n",
       "     'Italian [Auto]',\n",
       "     'Polish [Auto]',\n",
       "     'Portuguese [Auto]',\n",
       "     'Spanish [Auto]'],\n",
       "    'created': '2015-07-29T00:12:23Z',\n",
       "    'instructional_level': 'All Levels',\n",
       "    'instructional_level_simple': 'All Levels',\n",
       "    'content_length_practice_test_questions': 0,\n",
       "    'is_user_subscribed': False,\n",
       "    'buyable_object_type': 'course',\n",
       "    'published_time': '2015-10-12T21:42:53Z',\n",
       "    'objectives_summary': ['Learn to use Python professionally, learning both Python 2 and Python 3!',\n",
       "     'Create games with Python, like Tic Tac Toe and Blackjack!',\n",
       "     'Learn advanced Python features, like the collections module and how to work with timestamps!'],\n",
       "    'is_recently_published': False,\n",
       "    'last_update_date': '2021-03-14',\n",
       "    'preview_url': '/course/567828/preview/',\n",
       "    'learn_url': '/course/complete-python-bootcamp/learn/',\n",
       "    'predictive_score': None,\n",
       "    'relevancy_score': None,\n",
       "    'input_features': None,\n",
       "    'lecture_search_result': None,\n",
       "    'curriculum_lectures': [],\n",
       "    'order_in_results': None,\n",
       "    'curriculum_items': [],\n",
       "    'instructor_name': None,\n",
       "    'content_info': '22 total hours',\n",
       "    'content_info_short': '22 hours',\n",
       "    'bestseller_badge_content': None,\n",
       "    'badges': [],\n",
       "    'free_course_subscribe_url': None,\n",
       "    'context_info': {'category': {'id': 288,\n",
       "      'title': 'Development',\n",
       "      'url': '/courses/development/',\n",
       "      'tracking_object_type': 'cat'},\n",
       "     'subcategory': None,\n",
       "     'label': {'id': 7380,\n",
       "      'display_name': 'Python',\n",
       "      'title': 'Python',\n",
       "      'topic_channel_url': '/topic/python/',\n",
       "      'url': '/topic/python/',\n",
       "      'tracking_object_type': 'cl'}}}],\n",
       "  'remaining_item_count': 9999,\n",
       "  'url': '/api-2.0/discovery-units/all_courses/?apply_filters=True&category_id=288&fft=&fl=cat&gl_tracking_id=None&is_content_rankable=False&ref_tracking_id=NrwgOYvlT5-mRY0M0DIxwA&sos=pc',\n",
       "  'type': 'all_courses',\n",
       "  'recommendation_params': {'fl': 'cat',\n",
       "   'sos': 'pc',\n",
       "   'u': None,\n",
       "   'fft': '',\n",
       "   'is_content_rankable': False,\n",
       "   'ref_tracking_id': 'NrwgOYvlT5-mRY0M0DIxwA',\n",
       "   'gl_tracking_id': 'None',\n",
       "   'member_of': None,\n",
       "   'source_object_count': None,\n",
       "   'category_id': 288,\n",
       "   'apply_filters': True},\n",
       "  'url_title': None,\n",
       "  'score': 0.0,\n",
       "  'available_filters': {},\n",
       "  'aggregations': [{'id': 'subcategory',\n",
       "    'title': 'Subcategory',\n",
       "    'key': 'subcategory',\n",
       "    'options': [{'title': 'Web Development',\n",
       "      'count': 5404,\n",
       "      'key': 'subcategory',\n",
       "      'value': 'Web Development'},\n",
       "     {'title': 'Programming Languages',\n",
       "      'count': 3392,\n",
       "      'key': 'subcategory',\n",
       "      'value': 'Programming Languages'},\n",
       "     {'title': 'Data Science',\n",
       "      'count': 1644,\n",
       "      'key': 'subcategory',\n",
       "      'value': 'Data Science'},\n",
       "     {'title': 'Mobile Development',\n",
       "      'count': 1474,\n",
       "      'key': 'subcategory',\n",
       "      'value': 'Mobile Development'},\n",
       "     {'title': 'Game Development',\n",
       "      'count': 1179,\n",
       "      'key': 'subcategory',\n",
       "      'value': 'Game Development'},\n",
       "     {'title': 'Database Design & Development',\n",
       "      'count': 994,\n",
       "      'key': 'subcategory',\n",
       "      'value': 'Database Design & Development'},\n",
       "     {'title': 'Software Engineering',\n",
       "      'count': 967,\n",
       "      'key': 'subcategory',\n",
       "      'value': 'Software Engineering'},\n",
       "     {'title': 'Software Development Tools',\n",
       "      'count': 837,\n",
       "      'key': 'subcategory',\n",
       "      'value': 'Software Development Tools'},\n",
       "     {'title': 'Software Testing',\n",
       "      'count': 654,\n",
       "      'key': 'subcategory',\n",
       "      'value': 'Software Testing'},\n",
       "     {'title': 'No-Code Development',\n",
       "      'count': 258,\n",
       "      'key': 'subcategory',\n",
       "      'value': 'No-Code Development'}]},\n",
       "   {'title': 'Level',\n",
       "    'key': 'instructional_level',\n",
       "    'id': 'instructional_level',\n",
       "    'options': [{'title': 'All Levels',\n",
       "      'count': 7787,\n",
       "      'key': 'instructional_level',\n",
       "      'value': 'all'},\n",
       "     {'title': 'Beginner',\n",
       "      'count': 6187,\n",
       "      'key': 'instructional_level',\n",
       "      'value': 'beginner'},\n",
       "     {'title': 'Intermediate',\n",
       "      'count': 2526,\n",
       "      'key': 'instructional_level',\n",
       "      'value': 'intermediate'},\n",
       "     {'title': 'Expert',\n",
       "      'count': 329,\n",
       "      'key': 'instructional_level',\n",
       "      'value': 'expert'}],\n",
       "    'open': True,\n",
       "    'all_title': 'All Levels'},\n",
       "   {'title': 'Language',\n",
       "    'key': 'language',\n",
       "    'id': 'language',\n",
       "    'options': [{'title': 'English',\n",
       "      'count': 10000,\n",
       "      'selected': True,\n",
       "      'key': 'lang',\n",
       "      'value': 'en'},\n",
       "     {'title': 'Português', 'count': 2501, 'key': 'lang', 'value': 'pt'},\n",
       "     {'title': 'Español', 'count': 2249, 'key': 'lang', 'value': 'es'},\n",
       "     {'title': 'Türkçe', 'count': 1500, 'key': 'lang', 'value': 'tr'},\n",
       "     {'title': 'Français', 'count': 850, 'key': 'lang', 'value': 'fr'},\n",
       "     {'title': '日本語', 'count': 743, 'key': 'lang', 'value': 'ja'},\n",
       "     {'title': '中文', 'count': 610, 'key': 'lang', 'value': 'zh'},\n",
       "     {'title': 'العربية', 'count': 588, 'key': 'lang', 'value': 'ar'},\n",
       "     {'title': 'Deutsch', 'count': 539, 'key': 'lang', 'value': 'de'},\n",
       "     {'title': 'Русский', 'count': 476, 'key': 'lang', 'value': 'ru'},\n",
       "     {'title': 'Polski', 'count': 347, 'key': 'lang', 'value': 'pl'},\n",
       "     {'title': 'Bahasa Indonesia', 'count': 318, 'key': 'lang', 'value': 'id'},\n",
       "     {'title': '한국어', 'count': 277, 'key': 'lang', 'value': 'ko'},\n",
       "     {'title': 'Italiano', 'count': 266, 'key': 'lang', 'value': 'it'},\n",
       "     {'title': 'हिन्दी', 'count': 141, 'key': 'lang', 'value': 'hi'},\n",
       "     {'title': 'ภาษาไทย', 'count': 101, 'key': 'lang', 'value': 'th'},\n",
       "     {'title': 'اردو', 'count': 76, 'key': 'lang', 'value': 'ur'},\n",
       "     {'title': 'Tiếng Việt', 'count': 41, 'key': 'lang', 'value': 'vi'},\n",
       "     {'title': 'தமிழ்', 'count': 36, 'key': 'lang', 'value': 'ta'},\n",
       "     {'title': 'Bangla', 'count': 22, 'key': 'lang', 'value': 'bn'},\n",
       "     {'title': 'Română', 'count': 22, 'key': 'lang', 'value': 'ro'},\n",
       "     {'title': 'Telugu', 'count': 22, 'key': 'lang', 'value': 'te'},\n",
       "     {'title': '\\u200fעברית\\u200f', 'count': 14, 'key': 'lang', 'value': 'he'},\n",
       "     {'title': 'Nederlands', 'count': 14, 'key': 'lang', 'value': 'nl'},\n",
       "     {'title': 'Azərbaycan dili', 'count': 11, 'key': 'lang', 'value': 'az'},\n",
       "     {'title': 'فارسی', 'count': 10, 'key': 'lang', 'value': 'fa'},\n",
       "     {'title': 'Malayāḷam', 'count': 8, 'key': 'lang', 'value': 'ml'},\n",
       "     {'title': 'Ελληνικά', 'count': 6, 'key': 'lang', 'value': 'el'},\n",
       "     {'title': 'မြန်မာဘာသာ', 'count': 5, 'key': 'lang', 'value': 'my'},\n",
       "     {'title': 'ગુજરાતી', 'count': 4, 'key': 'lang', 'value': 'gu'},\n",
       "     {'title': 'Català', 'count': 3, 'key': 'lang', 'value': 'ca'},\n",
       "     {'title': 'मराठी', 'count': 3, 'key': 'lang', 'value': 'mr'},\n",
       "     {'title': 'नेपाली', 'count': 3, 'key': 'lang', 'value': 'ne'},\n",
       "     {'title': 'پښتو', 'count': 3, 'key': 'lang', 'value': 'ps'},\n",
       "     {'title': 'Magyar', 'count': 2, 'key': 'lang', 'value': 'hu'},\n",
       "     {'title': 'Українська', 'count': 2, 'key': 'lang', 'value': 'uk'},\n",
       "     {'title': \"O'zbek\", 'count': 2, 'key': 'lang', 'value': 'uz'},\n",
       "     {'title': 'Čeština', 'count': 1, 'key': 'lang', 'value': 'cs'},\n",
       "     {'title': 'Suomi', 'count': 1, 'key': 'lang', 'value': 'fi'},\n",
       "     {'title': 'Hrvatski', 'count': 1, 'key': 'lang', 'value': 'hr'},\n",
       "     {'title': 'ქართული', 'count': 1, 'key': 'lang', 'value': 'ka'},\n",
       "     {'title': 'Soomaaliga', 'count': 1, 'key': 'lang', 'value': 'so'},\n",
       "     {'title': 'Српски', 'count': 1, 'key': 'lang', 'value': 'sr'},\n",
       "     {'title': 'Svenska', 'count': 1, 'key': 'lang', 'value': 'sv'},\n",
       "     {'title': 'Kiswahili', 'count': 1, 'key': 'lang', 'value': 'sw'}],\n",
       "    'all_title': 'All Languages',\n",
       "    'open': True},\n",
       "   {'title': 'Price',\n",
       "    'key': 'price',\n",
       "    'id': 'price',\n",
       "    'options': [{'title': 'Paid',\n",
       "      'count': 10000,\n",
       "      'key': 'price',\n",
       "      'value': 'price-paid'},\n",
       "     {'title': 'Free', 'count': 1492, 'key': 'price', 'value': 'price-free'}],\n",
       "    'open': True,\n",
       "    'all_title': 'All Prices'},\n",
       "   {'title': 'Features',\n",
       "    'key': 'features',\n",
       "    'id': 'features',\n",
       "    'options': [{'count': 10000,\n",
       "      'title': 'Subtitles',\n",
       "      'is_feature': True,\n",
       "      'key': 'has_closed_caption',\n",
       "      'value': 'true'},\n",
       "     {'count': 3667,\n",
       "      'title': 'Quizzes',\n",
       "      'is_feature': True,\n",
       "      'key': 'has_simple_quiz',\n",
       "      'value': 'true'},\n",
       "     {'count': 406,\n",
       "      'title': 'Coding Exercises',\n",
       "      'is_feature': True,\n",
       "      'key': 'has_coding_exercises',\n",
       "      'value': 'true'},\n",
       "     {'count': 468,\n",
       "      'title': 'Practice Tests',\n",
       "      'is_feature': True,\n",
       "      'key': 'has_practice_test',\n",
       "      'value': 'true'}]},\n",
       "   {'title': 'Ratings',\n",
       "    'key': 'ratings',\n",
       "    'id': 'ratings',\n",
       "    'options': [{'title': '4.5 & up',\n",
       "      'count': 4635,\n",
       "      'key': 'ratings',\n",
       "      'value': '4.5'},\n",
       "     {'title': '4.0 & up', 'count': 10000, 'key': 'ratings', 'value': '4.0'},\n",
       "     {'title': '3.5 & up', 'count': 10000, 'key': 'ratings', 'value': '3.5'},\n",
       "     {'title': '3.0 & up', 'count': 10000, 'key': 'ratings', 'value': '3.0'}],\n",
       "    'all_title': 'Ratings'},\n",
       "   {'title': 'Video Duration',\n",
       "    'key': 'duration',\n",
       "    'id': 'duration',\n",
       "    'options': [{'title': '0-1 Hour',\n",
       "      'count': 1561,\n",
       "      'key': 'duration',\n",
       "      'value': 'extraShort'},\n",
       "     {'title': '1-3 Hours',\n",
       "      'count': 5382,\n",
       "      'key': 'duration',\n",
       "      'value': 'short'},\n",
       "     {'title': '3-6 Hours',\n",
       "      'count': 4189,\n",
       "      'key': 'duration',\n",
       "      'value': 'medium'},\n",
       "     {'title': '6-17 Hours',\n",
       "      'count': 4205,\n",
       "      'key': 'duration',\n",
       "      'value': 'long'},\n",
       "     {'title': '17+ Hours',\n",
       "      'count': 1493,\n",
       "      'key': 'duration',\n",
       "      'value': 'extraLong'}],\n",
       "    'all_title': ''},\n",
       "   {'title': 'Subtitles',\n",
       "    'key': 'closed_captions',\n",
       "    'id': 'closed_captions',\n",
       "    'options': [{'title': 'English',\n",
       "      'count': 10000,\n",
       "      'key': 'closed_captions',\n",
       "      'value': 'en'},\n",
       "     {'title': 'Español',\n",
       "      'count': 430,\n",
       "      'key': 'closed_captions',\n",
       "      'value': 'es'},\n",
       "     {'title': 'Português',\n",
       "      'count': 408,\n",
       "      'key': 'closed_captions',\n",
       "      'value': 'pt'},\n",
       "     {'title': 'Italiano',\n",
       "      'count': 386,\n",
       "      'key': 'closed_captions',\n",
       "      'value': 'it'},\n",
       "     {'title': 'Français',\n",
       "      'count': 321,\n",
       "      'key': 'closed_captions',\n",
       "      'value': 'fr'},\n",
       "     {'title': 'Bahasa Indonesia',\n",
       "      'count': 307,\n",
       "      'key': 'closed_captions',\n",
       "      'value': 'id'},\n",
       "     {'title': 'Deutsch',\n",
       "      'count': 274,\n",
       "      'key': 'closed_captions',\n",
       "      'value': 'de'},\n",
       "     {'title': 'Polski',\n",
       "      'count': 257,\n",
       "      'key': 'closed_captions',\n",
       "      'value': 'pl'},\n",
       "     {'title': 'Română',\n",
       "      'count': 154,\n",
       "      'key': 'closed_captions',\n",
       "      'value': 'ro'},\n",
       "     {'title': 'ภาษาไทย',\n",
       "      'count': 98,\n",
       "      'key': 'closed_captions',\n",
       "      'value': 'th'}]}],\n",
       "  'course_labels': [{'_class': 'course_label',\n",
       "    'id': 7380,\n",
       "    'title': 'Python',\n",
       "    'display_name': 'Python',\n",
       "    'doc_count': 1092},\n",
       "   {'_class': 'course_label',\n",
       "    'id': 6368,\n",
       "    'title': 'JavaScript',\n",
       "    'display_name': 'JavaScript',\n",
       "    'doc_count': 620},\n",
       "   {'_class': 'course_label',\n",
       "    'id': 6336,\n",
       "    'title': 'Java',\n",
       "    'display_name': 'Java',\n",
       "    'doc_count': 480},\n",
       "   {'_class': 'course_label',\n",
       "    'id': 8154,\n",
       "    'title': 'Unity',\n",
       "    'display_name': 'Unity',\n",
       "    'doc_count': 441},\n",
       "   {'_class': 'course_label',\n",
       "    'id': 8322,\n",
       "    'title': 'Web Development',\n",
       "    'display_name': 'Web Development',\n",
       "    'doc_count': 420},\n",
       "   {'_class': 'course_label',\n",
       "    'id': 6594,\n",
       "    'title': 'Machine Learning',\n",
       "    'display_name': 'Machine Learning',\n",
       "    'doc_count': 370},\n",
       "   {'_class': 'course_label',\n",
       "    'id': 8452,\n",
       "    'title': 'WordPress',\n",
       "    'display_name': 'WordPress',\n",
       "    'doc_count': 358},\n",
       "   {'_class': 'course_label',\n",
       "    'id': 6292,\n",
       "    'title': 'iOS Development',\n",
       "    'display_name': 'iOS Development',\n",
       "    'doc_count': 318},\n",
       "   {'_class': 'course_label',\n",
       "    'id': 4470,\n",
       "    'title': 'Android Development',\n",
       "    'display_name': 'Android Development',\n",
       "    'doc_count': 313},\n",
       "   {'_class': 'course_label',\n",
       "    'id': 7176,\n",
       "    'title': 'PHP',\n",
       "    'display_name': 'PHP',\n",
       "    'doc_count': 312},\n",
       "   {'_class': 'course_label',\n",
       "    'id': 7450,\n",
       "    'title': 'React',\n",
       "    'display_name': 'React',\n",
       "    'doc_count': 311},\n",
       "   {'_class': 'course_label',\n",
       "    'id': 5336,\n",
       "    'title': 'Data Science',\n",
       "    'display_name': 'Data Science',\n",
       "    'doc_count': 278},\n",
       "   {'_class': 'course_label',\n",
       "    'id': 4904,\n",
       "    'title': 'C#',\n",
       "    'display_name': 'C#',\n",
       "    'doc_count': 270},\n",
       "   {'_class': 'course_label',\n",
       "    'id': 5306,\n",
       "    'title': 'CSS',\n",
       "    'display_name': 'CSS',\n",
       "    'doc_count': 209},\n",
       "   {'_class': 'course_label',\n",
       "    'id': 6928,\n",
       "    'title': 'Node.Js',\n",
       "    'display_name': 'Node.Js',\n",
       "    'doc_count': 199},\n",
       "   {'_class': 'course_label',\n",
       "    'id': 7862,\n",
       "    'title': 'SQL',\n",
       "    'display_name': 'SQL',\n",
       "    'doc_count': 196},\n",
       "   {'_class': 'course_label',\n",
       "    'id': 6148,\n",
       "    'title': 'HTML',\n",
       "    'display_name': 'HTML',\n",
       "    'doc_count': 195},\n",
       "   {'_class': 'course_label',\n",
       "    'id': 7956,\n",
       "    'title': 'Swift',\n",
       "    'display_name': 'Swift',\n",
       "    'doc_count': 190},\n",
       "   {'_class': 'course_label',\n",
       "    'id': 28016,\n",
       "    'title': 'Angular',\n",
       "    'display_name': 'Angular',\n",
       "    'doc_count': 184},\n",
       "   {'_class': 'course_label',\n",
       "    'id': 4908,\n",
       "    'title': 'C++',\n",
       "    'display_name': 'C++',\n",
       "    'doc_count': 171},\n",
       "   {'_class': 'course_label',\n",
       "    'id': 7432,\n",
       "    'title': 'R (programming language)',\n",
       "    'display_name': 'R (programming language)',\n",
       "    'doc_count': 163},\n",
       "   {'_class': 'course_label',\n",
       "    'id': 5904,\n",
       "    'title': 'Game Development Fundamentals',\n",
       "    'display_name': 'Game Development Fundamentals',\n",
       "    'doc_count': 161},\n",
       "   {'_class': 'course_label',\n",
       "    'id': 5464,\n",
       "    'title': 'Django',\n",
       "    'display_name': 'Django',\n",
       "    'doc_count': 157},\n",
       "   {'_class': 'course_label',\n",
       "    'id': 6490,\n",
       "    'title': 'Laravel',\n",
       "    'display_name': 'Laravel',\n",
       "    'doc_count': 157},\n",
       "   {'_class': 'course_label',\n",
       "    'id': 52458,\n",
       "    'title': 'Google Flutter',\n",
       "    'display_name': 'Google Flutter',\n",
       "    'doc_count': 157}],\n",
       "  'sort_options': {'current_sort_option': {'label': 'Popularity',\n",
       "    'key': 'popularity',\n",
       "    'url': '/api-2.0/discovery-units/all_courses/?category_id=288&currency=usd&fl=cat&lang=en&locale=en_US&navigation_locale=en_US&page_size=1&sos=pc&source_page=category_page&sort=popularity'},\n",
       "   'options': [{'label': 'Highest Rated',\n",
       "     'key': 'highest-rated',\n",
       "     'url': '/api-2.0/discovery-units/all_courses/?category_id=288&currency=usd&fl=cat&lang=en&locale=en_US&navigation_locale=en_US&page_size=1&sos=pc&source_page=category_page&sort=highest-rated'},\n",
       "    {'label': 'Newest',\n",
       "     'key': 'newest',\n",
       "     'url': '/api-2.0/discovery-units/all_courses/?category_id=288&currency=usd&fl=cat&lang=en&locale=en_US&navigation_locale=en_US&page_size=1&sos=pc&source_page=category_page&sort=newest'}]},\n",
       "  'pagination': {'next': {'label': 'Next',\n",
       "    'url': '/api-2.0/discovery-units/all_courses/?category_id=288&currency=usd&fl=cat&lang=en&locale=en_US&navigation_locale=en_US&page_size=1&sos=pc&source_page=category_page&p=2',\n",
       "    'selected': False},\n",
       "   'current_page': 1,\n",
       "   'total_page': 10000,\n",
       "   'total_item_count': 10000,\n",
       "   'pages': [{'url': '/api-2.0/discovery-units/all_courses/?category_id=288&currency=usd&fl=cat&lang=en&locale=en_US&navigation_locale=en_US&page_size=1&sos=pc&source_page=category_page&p=1',\n",
       "     'label': 1,\n",
       "     'selected': True},\n",
       "    {'url': '/api-2.0/discovery-units/all_courses/?category_id=288&currency=usd&fl=cat&lang=en&locale=en_US&navigation_locale=en_US&page_size=1&sos=pc&source_page=category_page&p=2',\n",
       "     'label': 2,\n",
       "     'selected': False},\n",
       "    {'url': '/api-2.0/discovery-units/all_courses/?category_id=288&currency=usd&fl=cat&lang=en&locale=en_US&navigation_locale=en_US&page_size=1&sos=pc&source_page=category_page&p=3',\n",
       "     'label': 3,\n",
       "     'selected': False},\n",
       "    {'url': '/api-2.0/discovery-units/all_courses/?category_id=288&currency=usd&fl=cat&lang=en&locale=en_US&navigation_locale=en_US&page_size=1&sos=pc&source_page=category_page&p=4',\n",
       "     'label': 4,\n",
       "     'selected': False},\n",
       "    {'url': '/api-2.0/discovery-units/all_courses/?category_id=288&currency=usd&fl=cat&lang=en&locale=en_US&navigation_locale=en_US&page_size=1&sos=pc&source_page=category_page&p=5',\n",
       "     'label': 5,\n",
       "     'selected': False}]},\n",
       "  'view_type': 'default',\n",
       "  'member_of': None,\n",
       "  'tracking_id': 'NrwgOYvlT5-mRY0M0DIxwA',\n",
       "  'has_courses_in_ufb': True,\n",
       "  'description': '',\n",
       "  'subcategory_slug': '',\n",
       "  'fbt_discount_savings_percent': None,\n",
       "  'fbt_go_direct_to_cart': False}}"
      ]
     },
     "execution_count": 6,
     "metadata": {},
     "output_type": "execute_result"
    }
   ],
   "source": [
    "api_data"
   ]
  },
  {
   "cell_type": "code",
   "execution_count": null,
   "metadata": {},
   "outputs": [],
   "source": [
    "\"\"\"\n",
    "Course Info\n",
    "1. Course Id\n",
    "2. Course Name\n",
    "3. Student number\n",
    "4. Rating\n",
    "5. Review Number\n",
    "6. Lectures number\n",
    "7. practive_tests\n",
    "8. Instrutional_level\n",
    "9. Pratice_test_questions\n",
    "10. Published_time\n",
    "11. Last_update_Date\n",
    "12. Hours\n",
    "13. Remaining_item_count\n",
    "14. url\n",
    "\n",
    "Tutor Info\n",
    "1. Course Id\n",
    "2. Instructor Id\n",
    "3. Instructor Name\n",
    "4. Job_title\n",
    "5. Url\n",
    "\"\"\""
   ]
  },
  {
   "cell_type": "code",
   "execution_count": 13,
   "metadata": {},
   "outputs": [
    {
     "data": {
      "text/plain": [
       "567828"
      ]
     },
     "execution_count": 13,
     "metadata": {},
     "output_type": "execute_result"
    }
   ],
   "source": [
    "#Course Id\n",
    "api_data['unit']['items'][0]['id']"
   ]
  },
  {
   "cell_type": "code",
   "execution_count": 15,
   "metadata": {},
   "outputs": [
    {
     "data": {
      "text/plain": [
       "'2022 Complete Python Bootcamp From Zero to Hero in Python'"
      ]
     },
     "execution_count": 15,
     "metadata": {},
     "output_type": "execute_result"
    }
   ],
   "source": [
    "#Course Name\n",
    "api_data['unit']['items'][0]['title']"
   ]
  },
  {
   "cell_type": "code",
   "execution_count": 16,
   "metadata": {},
   "outputs": [
    {
     "data": {
      "text/plain": [
       "'/course/complete-python-bootcamp/'"
      ]
     },
     "execution_count": 16,
     "metadata": {},
     "output_type": "execute_result"
    }
   ],
   "source": [
    "#Url\n",
    "api_data['unit']['items'][0]['url']"
   ]
  },
  {
   "cell_type": "code",
   "execution_count": 17,
   "metadata": {},
   "outputs": [
    {
     "data": {
      "text/plain": [
       "1490084"
      ]
     },
     "execution_count": 17,
     "metadata": {},
     "output_type": "execute_result"
    }
   ],
   "source": [
    "#Student number\n",
    "api_data['unit']['items'][0]['num_subscribers']"
   ]
  },
  {
   "cell_type": "code",
   "execution_count": 18,
   "metadata": {},
   "outputs": [
    {
     "data": {
      "text/plain": [
       "4.624186"
      ]
     },
     "execution_count": 18,
     "metadata": {},
     "output_type": "execute_result"
    }
   ],
   "source": [
    "#Rating\n",
    "api_data['unit']['items'][0]['rating']"
   ]
  },
  {
   "cell_type": "code",
   "execution_count": 19,
   "metadata": {},
   "outputs": [
    {
     "data": {
      "text/plain": [
       "155"
      ]
     },
     "execution_count": 19,
     "metadata": {},
     "output_type": "execute_result"
    }
   ],
   "source": [
    "#Lectures number\n",
    "api_data['unit']['items'][0]['num_published_lectures']"
   ]
  },
  {
   "cell_type": "code",
   "execution_count": 20,
   "metadata": {},
   "outputs": [
    {
     "data": {
      "text/plain": [
       "0"
      ]
     },
     "execution_count": 20,
     "metadata": {},
     "output_type": "execute_result"
    }
   ],
   "source": [
    "#practice_tests\n",
    "api_data['unit']['items'][0]['num_published_practice_tests']"
   ]
  },
  {
   "cell_type": "code",
   "execution_count": 21,
   "metadata": {},
   "outputs": [
    {
     "data": {
      "text/plain": [
       "'All Levels'"
      ]
     },
     "execution_count": 21,
     "metadata": {},
     "output_type": "execute_result"
    }
   ],
   "source": [
    "#Instrutional_level\n",
    "api_data['unit']['items'][0]['instructional_level']"
   ]
  },
  {
   "cell_type": "code",
   "execution_count": 22,
   "metadata": {},
   "outputs": [
    {
     "data": {
      "text/plain": [
       "0"
      ]
     },
     "execution_count": 22,
     "metadata": {},
     "output_type": "execute_result"
    }
   ],
   "source": [
    "#Pratice_test_questions \n",
    "api_data['unit']['items'][0]['content_length_practice_test_questions']"
   ]
  },
  {
   "cell_type": "code",
   "execution_count": 23,
   "metadata": {},
   "outputs": [
    {
     "data": {
      "text/plain": [
       "'2015-10-12T21:42:53Z'"
      ]
     },
     "execution_count": 23,
     "metadata": {},
     "output_type": "execute_result"
    }
   ],
   "source": [
    "#Published_time\n",
    "api_data['unit']['items'][0]['published_time']"
   ]
  },
  {
   "cell_type": "code",
   "execution_count": 24,
   "metadata": {},
   "outputs": [
    {
     "data": {
      "text/plain": [
       "'2021-03-14'"
      ]
     },
     "execution_count": 24,
     "metadata": {},
     "output_type": "execute_result"
    }
   ],
   "source": [
    "#Last_update_Date\n",
    "api_data['unit']['items'][0]['last_update_date']"
   ]
  },
  {
   "cell_type": "code",
   "execution_count": 25,
   "metadata": {},
   "outputs": [
    {
     "data": {
      "text/plain": [
       "'22 total hours'"
      ]
     },
     "execution_count": 25,
     "metadata": {},
     "output_type": "execute_result"
    }
   ],
   "source": [
    "#Hours\n",
    "api_data['unit']['items'][0]['content_info']"
   ]
  },
  {
   "cell_type": "code",
   "execution_count": null,
   "metadata": {},
   "outputs": [],
   "source": []
  },
  {
   "cell_type": "markdown",
   "metadata": {},
   "source": [
    "## Instructor Info"
   ]
  },
  {
   "cell_type": "code",
   "execution_count": 27,
   "metadata": {},
   "outputs": [
    {
     "data": {
      "text/plain": [
       "{'_class': 'user',\n",
       " 'id': 9685726,\n",
       " 'title': 'Jose Portilla',\n",
       " 'name': 'Jose',\n",
       " 'display_name': 'Jose Portilla',\n",
       " 'job_title': 'Head of Data Science, Pierian Data Inc.',\n",
       " 'image_50x50': 'https://img-c.udemycdn.com/user/50x50/9685726_67e7_4.jpg',\n",
       " 'image_100x100': 'https://img-c.udemycdn.com/user/100x100/9685726_67e7_4.jpg',\n",
       " 'initials': 'JP',\n",
       " 'url': '/user/joseportilla/'}"
      ]
     },
     "execution_count": 27,
     "metadata": {},
     "output_type": "execute_result"
    }
   ],
   "source": [
    "api_data['unit']['items'][0]['visible_instructors'][0]"
   ]
  },
  {
   "cell_type": "code",
   "execution_count": 28,
   "metadata": {},
   "outputs": [
    {
     "data": {
      "text/plain": [
       "9685726"
      ]
     },
     "execution_count": 28,
     "metadata": {},
     "output_type": "execute_result"
    }
   ],
   "source": [
    "#Instructor Id\n",
    "api_data['unit']['items'][0]['visible_instructors'][0]['id']"
   ]
  },
  {
   "cell_type": "code",
   "execution_count": 29,
   "metadata": {},
   "outputs": [
    {
     "data": {
      "text/plain": [
       "'Jose Portilla'"
      ]
     },
     "execution_count": 29,
     "metadata": {},
     "output_type": "execute_result"
    }
   ],
   "source": [
    "#Instructor Name\n",
    "api_data['unit']['items'][0]['visible_instructors'][0]['title']"
   ]
  },
  {
   "cell_type": "code",
   "execution_count": 30,
   "metadata": {},
   "outputs": [
    {
     "data": {
      "text/plain": [
       "'Head of Data Science, Pierian Data Inc.'"
      ]
     },
     "execution_count": 30,
     "metadata": {},
     "output_type": "execute_result"
    }
   ],
   "source": [
    "#Instructor Job Title\n",
    "api_data['unit']['items'][0]['visible_instructors'][0]['job_title']"
   ]
  },
  {
   "cell_type": "code",
   "execution_count": 31,
   "metadata": {},
   "outputs": [
    {
     "data": {
      "text/plain": [
       "'/user/joseportilla/'"
      ]
     },
     "execution_count": 31,
     "metadata": {},
     "output_type": "execute_result"
    }
   ],
   "source": [
    "#Instructor Url\n",
    "api_data['unit']['items'][0]['visible_instructors'][0]['url']"
   ]
  },
  {
   "cell_type": "code",
   "execution_count": null,
   "metadata": {},
   "outputs": [],
   "source": []
  },
  {
   "cell_type": "code",
   "execution_count": 10,
   "metadata": {},
   "outputs": [],
   "source": [
    "with open('test.json', 'w') as fp:\n",
    "    json.dump(api_data, fp)"
   ]
  },
  {
   "cell_type": "code",
   "execution_count": null,
   "metadata": {},
   "outputs": [],
   "source": []
  }
 ],
 "metadata": {
  "kernelspec": {
   "display_name": "Python 3",
   "language": "python",
   "name": "python3"
  },
  "language_info": {
   "codemirror_mode": {
    "name": "ipython",
    "version": 3
   },
   "file_extension": ".py",
   "mimetype": "text/x-python",
   "name": "python",
   "nbconvert_exporter": "python",
   "pygments_lexer": "ipython3",
   "version": "3.8.3"
  }
 },
 "nbformat": 4,
 "nbformat_minor": 4
}
