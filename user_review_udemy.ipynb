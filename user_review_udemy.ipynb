{
 "cells": [
  {
   "cell_type": "code",
   "execution_count": 1,
   "metadata": {},
   "outputs": [],
   "source": [
    "import requests\n",
    "import pandas as pd"
   ]
  },
  {
   "cell_type": "code",
   "execution_count": null,
   "metadata": {},
   "outputs": [],
   "source": [
    "\"\"\"\n",
    "https://www.udemy.com/api-2.0/courses/684272/reviews/?courseId=684272&page=317&is_text_review=1&ordering=course_review_score__rank,-created&fields[course_review]=@default,response&fields[user]=@min&fields[course_review_response]=@min,user\n",
    "\"\"\""
   ]
  },
  {
   "cell_type": "code",
   "execution_count": 2,
   "metadata": {},
   "outputs": [],
   "source": [
    "url = 'https://www.udemy.com/api-2.0/courses/684272/reviews/'\n",
    "payload = {'courseId': 684272, 'page': 1, 'is_text_review': 1,'ordering': 'course_review_score__rank,-created', 'fileds[course_review]': '@default,response', 'fields[user]': '@min', 'fields[course_review_response]': '@min,user'}"
   ]
  },
  {
   "cell_type": "code",
   "execution_count": 4,
   "metadata": {},
   "outputs": [],
   "source": [
    "r = requests.get(url, params=payload)"
   ]
  },
  {
   "cell_type": "code",
   "execution_count": 7,
   "metadata": {},
   "outputs": [],
   "source": [
    "api_data = r.json()"
   ]
  },
  {
   "cell_type": "code",
   "execution_count": 20,
   "metadata": {},
   "outputs": [
    {
     "data": {
      "text/plain": [
       "True"
      ]
     },
     "execution_count": 20,
     "metadata": {},
     "output_type": "execute_result"
    }
   ],
   "source": [
    "api_data['previous'] == None"
   ]
  },
  {
   "cell_type": "markdown",
   "metadata": {},
   "source": [
    "'count':評論數  \n",
    "'next':下一頁  \n",
    "'previous':前一頁  \n",
    "'results':評論內容  "
   ]
  },
  {
   "cell_type": "markdown",
   "metadata": {},
   "source": [
    "'result':  \n",
    "id, title, content, rating, created, user: title"
   ]
  },
  {
   "cell_type": "code",
   "execution_count": 26,
   "metadata": {},
   "outputs": [
    {
     "data": {
      "text/plain": [
       "{'_class': 'course_review',\n",
       " 'id': 20625974,\n",
       " 'title': '',\n",
       " 'content': 'I am not a high discipline learner. Through learning from these lectures step by step, I built a strong fundamental skill\\u200b of speaking.',\n",
       " 'rating': 3.5,\n",
       " 'created': '2018-09-10T13:29:46Z',\n",
       " 'modified': '2019-03-07T20:35:03Z',\n",
       " 'user_modified': '2019-03-07T20:35:03Z',\n",
       " 'user': {'_class': 'user',\n",
       "  'title': 'Kane',\n",
       "  'name': 'Kane',\n",
       "  'display_name': 'Kane'}}"
      ]
     },
     "execution_count": 26,
     "metadata": {},
     "output_type": "execute_result"
    }
   ],
   "source": [
    "api_data['results'][0]"
   ]
  },
  {
   "cell_type": "code",
   "execution_count": null,
   "metadata": {},
   "outputs": [],
   "source": [
    "def getComments(courseId):\n",
    "    \n",
    "    \n",
    "    \n",
    "    url = 'https://www.udemy.com/api-2.0/courses/684272/reviews/'\n",
    "    payload = {'courseId': courseId, 'page': 1, 'is_text_review': 1,'ordering': 'course_review_score__rank,-created', 'fileds[course_review]': '@default,response', 'fields[user]': '@min', 'fields[course_review_response]': '@min,user'}\n",
    "    r = requests.get(url, params=payload)\n",
    "    if r.status_code == 200:\n",
    "        temp = []\n",
    "        api_data = r.json()\n",
    "        review_data = api_data['results']\n",
    "        for rd in review_data:\n",
    "            Id = courseId\n",
    "            review_content = rd['content']\n",
    "            "
   ]
  }
 ],
 "metadata": {
  "kernelspec": {
   "display_name": "Python 3",
   "language": "python",
   "name": "python3"
  },
  "language_info": {
   "codemirror_mode": {
    "name": "ipython",
    "version": 3
   },
   "file_extension": ".py",
   "mimetype": "text/x-python",
   "name": "python",
   "nbconvert_exporter": "python",
   "pygments_lexer": "ipython3",
   "version": "3.8.3"
  }
 },
 "nbformat": 4,
 "nbformat_minor": 4
}
