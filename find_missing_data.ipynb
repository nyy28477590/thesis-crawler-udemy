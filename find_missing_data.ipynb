{
 "cells": [
  {
   "cell_type": "code",
   "execution_count": 1,
   "metadata": {},
   "outputs": [],
   "source": [
    "import pandas as pd"
   ]
  },
  {
   "cell_type": "code",
   "execution_count": 2,
   "metadata": {},
   "outputs": [],
   "source": [
    "ids = [288, 296, 294, 300, 269, 268]"
   ]
  },
  {
   "cell_type": "code",
   "execution_count": 26,
   "metadata": {},
   "outputs": [
    {
     "name": "stdout",
     "output_type": "stream",
     "text": [
      "id:  288\n",
      "length:  97\n",
      "id:  296\n",
      "error_id:  3195426\n",
      "length:  238\n",
      "id:  294\n",
      "length:  114\n",
      "id:  300\n",
      "length:  181\n",
      "id:  269\n",
      "length:  81\n",
      "id:  268\n",
      "length:  73\n"
     ]
    }
   ],
   "source": [
    "for i in ids:\n",
    "    print('id: ', i)\n",
    "    all_file = pd.read_excel('./backup/cat-%d/courses_info_cat_%d.xlsx' % (i, i))\n",
    "    all_courses = all_file['course_id'].tolist()\n",
    "    data_file = pd.read_excel('./backup/cat-%d/mgc_cat_%d.xlsx' % (i, i))\n",
    "    data_courses = data_file[0].tolist()\n",
    "    for d in data_courses:\n",
    "        try:\n",
    "            all_courses.remove(d)\n",
    "        except:\n",
    "            print('error_id: ', d)\n",
    "            continue\n",
    "\n",
    "    output_df = pd.DataFrame()\n",
    "    output_df['course_id'] = all_courses\n",
    "    output_df['cat_id'] = i\n",
    "    print('length: ', len(all_courses))\n",
    "    output_df.to_excel('./backup/missing_data_%d.xlsx' % (i))"
   ]
  },
  {
   "cell_type": "code",
   "execution_count": 11,
   "metadata": {},
   "outputs": [],
   "source": []
  },
  {
   "cell_type": "code",
   "execution_count": 13,
   "metadata": {},
   "outputs": [],
   "source": []
  },
  {
   "cell_type": "code",
   "execution_count": 19,
   "metadata": {},
   "outputs": [],
   "source": []
  },
  {
   "cell_type": "code",
   "execution_count": 22,
   "metadata": {},
   "outputs": [],
   "source": []
  },
  {
   "cell_type": "code",
   "execution_count": null,
   "metadata": {},
   "outputs": [],
   "source": []
  }
 ],
 "metadata": {
  "kernelspec": {
   "display_name": "Python 3",
   "language": "python",
   "name": "python3"
  },
  "language_info": {
   "codemirror_mode": {
    "name": "ipython",
    "version": 3
   },
   "file_extension": ".py",
   "mimetype": "text/x-python",
   "name": "python",
   "nbconvert_exporter": "python",
   "pygments_lexer": "ipython3",
   "version": "3.8.3"
  }
 },
 "nbformat": 4,
 "nbformat_minor": 4
}
